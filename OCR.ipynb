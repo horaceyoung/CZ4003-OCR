{
 "cells": [
  {
   "cell_type": "code",
   "execution_count": 120,
   "metadata": {},
   "outputs": [],
   "source": [
    "import cv2\n",
    "import numpy as np\n",
    "import pytesseract\n",
    "import tempfile\n",
    "import pytesseract\n",
    "import jellyfish\n",
    "from PIL import Image\n",
    "from matplotlib import pyplot as plt\n",
    "from difflib import SequenceMatcher"
   ]
  },
  {
   "cell_type": "code",
   "execution_count": 131,
   "metadata": {},
   "outputs": [
    {
     "name": "stdout",
     "output_type": "stream",
     "text": [
      "Parking: You may park anywhere on the campus where there are no signs of prohibiting par-\n",
      "king. Keep in mind the carpool hours and park accordingly so you do not get blocked in the\n",
      "afternoon\n",
      "\n",
      "Under School Age Children:While we love the younger children, it can be disruptive and \n",
      "inappropriate to have them on campus during school hours. There may be special times\n",
      "that they may be invited or can accompany a parent volunteer, but other wise we ask that\n",
      "you adhere to our    policy for the benefit of the students and staff.\n"
     ]
    }
   ],
   "source": [
    "# constants and original text\n",
    "ori = \"Parking: You may park anywhere on the campus where there are no signs of prohibiting par-\\nking. Keep in mind the carpool hours and park accordingly so you do not get blocked in the\\nafternoon\\n\\nUnder School Age Children:While we love the younger children, it can be disruptive and \\ninappropriate to have them on campus during school hours. There may be special times\\nthat they may be invited or can accompany a parent volunteer, but other wise we ask that\\nyou adhere to our    policy for the benefit of the students and staff.\"\n",
    "print(ori)"
   ]
  },
  {
   "cell_type": "code",
   "execution_count": 197,
   "metadata": {},
   "outputs": [],
   "source": [
    "# resize the image to 300 dpi\n",
    "def set_image_dpi(path, filename, dpi=(300, 300)):\n",
    "    img = Image.open(path)\n",
    "    img.save(filename, dpi=(300, 300))"
   ]
  },
  {
   "cell_type": "code",
   "execution_count": 198,
   "metadata": {},
   "outputs": [],
   "source": [
    "# get grayscale image\n",
    "def get_grayscale(img):\n",
    "    return cv2.cvtColor(img, cv2.COLOR_BGR2GRAY)"
   ]
  },
  {
   "cell_type": "code",
   "execution_count": 199,
   "metadata": {},
   "outputs": [],
   "source": [
    "# implementing accuracy\n",
    "def similar(a, b):\n",
    "    return SequenceMatcher(None, a, b).ratio()"
   ]
  },
  {
   "cell_type": "code",
   "execution_count": 200,
   "metadata": {},
   "outputs": [],
   "source": [
    "def canny(image):\n",
    "    return cv2.Canny(image, 100, 200)"
   ]
  },
  {
   "cell_type": "code",
   "execution_count": 201,
   "metadata": {},
   "outputs": [],
   "source": [
    "def compute_accuracy(img):\n",
    "    result = pytesseract.image_to_string(img)\n",
    "    print(\"The converted string is: \\n\")\n",
    "    print(result)\n",
    "    acc = jellyfish.levenshtein_distance(ori, result)\n",
    "    print(acc)\n",
    "    return acc"
   ]
  },
  {
   "cell_type": "code",
   "execution_count": 208,
   "metadata": {},
   "outputs": [],
   "source": [
    "# This section contains all helper functions\n",
    "# Calculate skew angle of an image\n",
    "def get_skew_angle(cvImage):\n",
    "    # Prep image, copy, convert to gray scale, blur, and threshold\n",
    "    newImage = cvImage.copy()\n",
    "    blur = cv2.GaussianBlur(newImage, (9, 9), 0)\n",
    "    thresh = cv2.threshold(blur, 0, 255, cv2.THRESH_BINARY_INV + cv2.THRESH_OTSU)[1]\n",
    "\n",
    "    # Apply dilate to merge text into meaningful lines/paragraphs.\n",
    "    # Use larger kernel on X axis to merge characters into single line, cancelling out any spaces.\n",
    "    # But use smaller kernel on Y axis to separate between different blocks of text\n",
    "    kernel = cv2.getStructuringElement(cv2.MORPH_RECT, (30, 5))\n",
    "    dilate = cv2.dilate(thresh, kernel, iterations=5)\n",
    "\n",
    "    # Find all contours\n",
    "    contours, hierarchy = cv2.findContours(dilate, cv2.RETR_LIST, cv2.CHAIN_APPROX_SIMPLE)\n",
    "    contours = sorted(contours, key = cv2.contourArea, reverse = True)\n",
    "\n",
    "    # Find largest contour and surround in min area box\n",
    "    largestContour = contours[0]\n",
    "    minAreaRect = cv2.minAreaRect(largestContour)\n",
    "\n",
    "    # Determine the angle. Convert it to the value that was originally used to obtain skewed image\n",
    "    angle = minAreaRect[-1]\n",
    "    if angle < -45:\n",
    "        angle = 90 + angle\n",
    "    return -1.0 * angle"
   ]
  },
  {
   "cell_type": "code",
   "execution_count": 209,
   "metadata": {},
   "outputs": [],
   "source": [
    "def rotate_image(cvImage, angle):\n",
    "    newImage = cvImage.copy()\n",
    "    (h, w) = newImage.shape[:2]\n",
    "    center = (w // 2, h // 2)\n",
    "    M = cv2.getRotationMatrix2D(center, angle, 1.0)\n",
    "    newImage = cv2.warpAffine(newImage, M, (w, h), flags=cv2.INTER_CUBIC, borderMode=cv2.BORDER_REPLICATE)\n",
    "    return newImage"
   ]
  },
  {
   "cell_type": "code",
   "execution_count": 241,
   "metadata": {},
   "outputs": [
    {
     "name": "stdout",
     "output_type": "stream",
     "text": [
      "The converted string is: \n",
      "\n",
      "Parking: You may park anywhere on the ce\n",
      "king. Keep in mind the carpool hours and park\n",
      "afternoon\n",
      "\n",
      "Under School Age Children:While we love\n",
      "inappropriate to have them on campus @ )\n",
      "that they may be invited or can accompany :\n",
      "you adhere to our _ policy for the benefit of\n",
      "\n",
      " \n",
      "\f",
      "\n",
      "259\n",
      "The converted string is: \n",
      "\n",
      "Parking: You may park anywhere on the ce\n",
      "king. Keep in mind the carpool hours and park\n",
      "afternoon\n",
      "\n",
      "Under School Age Children:While we love\n",
      "inappropriate to have them on campus @ )\n",
      "that they may be invited or can accompany :\n",
      "you adhere to our _ policy for the benefit of\n",
      "\n",
      " \n",
      "\f",
      "\n",
      "259\n",
      "The converted string is: \n",
      "\n",
      "Parking You may park anywhere on the ¢\n",
      "king Keep in mind the carpool hours and\n",
      "afternoon\n",
      "\n",
      "Under Schoo! Age Children:While we love\n",
      "inappropriate to have them on campus durin\n",
      "that they may be invited or can accompany y\n",
      "you adhere to our _ policy for the benefit of t\n",
      "\n",
      " \n",
      "\f",
      "\n",
      "263\n"
     ]
    },
    {
     "data": {
      "text/plain": [
       "263"
      ]
     },
     "execution_count": 241,
     "metadata": {},
     "output_type": "execute_result"
    }
   ],
   "source": [
    "# read and resize image to 300 dpi, the new file name is resized\n",
    "set_image_dpi('sample01.png', 'resized.png')\n",
    "img = cv2.imread('resized.png')\n",
    "compute_accuracy(img)\n",
    "# get greyscale of image\n",
    "img = get_grayscale(img)\n",
    "cv2.imwrite('greyscale.png', img)\n",
    "compute_accuracy(img)\n",
    "# apply median blur to the image\n",
    "img = cv2.medianBlur(img,3)\n",
    "cv2.imwrite('median_blur.png', img)\n",
    "compute_accuracy(img)"
   ]
  },
  {
   "cell_type": "code",
   "execution_count": 242,
   "metadata": {},
   "outputs": [
    {
     "data": {
      "text/plain": [
       "\"\\n# Grid Search to find optimal pair of params\\nkernel_size = [3, 5, 7, 9, 11]\\nconstants = [0, 1, 2, 3, 4, 5, 6, 7, 8, 9, 10]\\nfor kernel in kernel_size:\\n    for constant in constants:\\n        temp = img.copy()\\n        temp = cv2.adaptiveThreshold(img, 255, cv2.ADAPTIVE_THRESH_GAUSSIAN_C, cv2.THRESH_BINARY, kernel, constant)\\n        print('Accuracy with kernel size ' + str(kernel) + ' constant ' + str(constant))\\n        compute_accuracy(temp)\\n\""
      ]
     },
     "execution_count": 242,
     "metadata": {},
     "output_type": "execute_result"
    }
   ],
   "source": [
    "'''\n",
    "# Grid Search to find optimal pair of params\n",
    "kernel_size = [3, 5, 7, 9, 11]\n",
    "constants = [0, 1, 2, 3, 4, 5, 6, 7, 8, 9, 10]\n",
    "for kernel in kernel_size:\n",
    "    for constant in constants:\n",
    "        temp = img.copy()\n",
    "        temp = cv2.adaptiveThreshold(img, 255, cv2.ADAPTIVE_THRESH_GAUSSIAN_C, cv2.THRESH_BINARY, kernel, constant)\n",
    "        print('Accuracy with kernel size ' + str(kernel) + ' constant ' + str(constant))\n",
    "        compute_accuracy(temp)\n",
    "'''"
   ]
  },
  {
   "cell_type": "code",
   "execution_count": 243,
   "metadata": {},
   "outputs": [
    {
     "name": "stdout",
     "output_type": "stream",
     "text": [
      "The converted string is: \n",
      "\n",
      "Parking: You may park anywhere on the campus where there are no signs prohibiting par-\n",
      "king. Keep in mind the carpool hours and park accordingly so you do not get blocked in the\n",
      "afternoon\n",
      "\n",
      "Under School Age Children:While we love the younger children, it can be disruptive and\n",
      "inappropriate to have them on campus during school hours. There may be special times\n",
      "that they may be inviled or can accompany a parent volunteer, but otherwise we ask that\n",
      "you adhere to our _ policy for the benefit of the students and staff.\n",
      "\f",
      "\n",
      "10\n"
     ]
    },
    {
     "data": {
      "text/plain": [
       "10"
      ]
     },
     "execution_count": 243,
     "metadata": {},
     "output_type": "execute_result"
    }
   ],
   "source": [
    "# optimal params of (7,4)\n",
    "img = cv2.adaptiveThreshold(img, 255, cv2.ADAPTIVE_THRESH_GAUSSIAN_C, cv2.THRESH_BINARY, 7, 4)\n",
    "cv2.imwrite('adaptive_7_4.png', img)\n",
    "compute_accuracy(img)"
   ]
  },
  {
   "cell_type": "code",
   "execution_count": 244,
   "metadata": {},
   "outputs": [
    {
     "data": {
      "text/plain": [
       "\"\\n# skipped after findingout openning reduce performance\\n# apply opening to the image\\nkernel = np.ones((3,3),np.uint8)\\nimg = cv2.morphologyEx(img, cv2.MORPH_OPEN, kernel)\\ncv2.imwrite('opening.png', img)\\ncompute_accuracy(img)\""
      ]
     },
     "execution_count": 244,
     "metadata": {},
     "output_type": "execute_result"
    }
   ],
   "source": [
    "'''\n",
    "# skipped after findingout openning reduce performance\n",
    "# apply opening to the image\n",
    "kernel = np.ones((3,3),np.uint8)\n",
    "img = cv2.morphologyEx(img, cv2.MORPH_OPEN, kernel)\n",
    "cv2.imwrite('opening.png', img)\n",
    "compute_accuracy(img)'''"
   ]
  },
  {
   "cell_type": "code",
   "execution_count": 245,
   "metadata": {},
   "outputs": [
    {
     "name": "stdout",
     "output_type": "stream",
     "text": [
      "0.9296673536300659\n",
      "The converted string is: \n",
      "\n",
      "Parking: You may park anywhere on the campus where there are no signs prohibiting par-\n",
      "king. Keep in mind the carpool hours and park accordingly so you do not get blocked in the\n",
      "afternoon\n",
      "\n",
      "Under Schoo! Age Children:While we love the younger children, it can be disruptive and\n",
      "inappropriate to have them on campus during school hours. There may be specia! times\n",
      "that they may be invited or can accompany a parent volunteer, but otherwise we ask that\n",
      "you adhere to our _ policy for the benefit of the students and staff.\n",
      "\f",
      "\n",
      "11\n"
     ]
    },
    {
     "data": {
      "text/plain": [
       "11"
      ]
     },
     "execution_count": 245,
     "metadata": {},
     "output_type": "execute_result"
    }
   ],
   "source": [
    "angle = get_skew_angle(img)\n",
    "print(angle)\n",
    "img = rotate_image(img, -1.0 * angle)\n",
    "cv2.imwrite('deskew.png', img)\n",
    "compute_accuracy(img)"
   ]
  }
 ],
 "metadata": {
  "kernelspec": {
   "display_name": "Python 3",
   "language": "python",
   "name": "python3"
  },
  "language_info": {
   "codemirror_mode": {
    "name": "ipython",
    "version": 3
   },
   "file_extension": ".py",
   "mimetype": "text/x-python",
   "name": "python",
   "nbconvert_exporter": "python",
   "pygments_lexer": "ipython3",
   "version": "3.8.5"
  }
 },
 "nbformat": 4,
 "nbformat_minor": 4
}
